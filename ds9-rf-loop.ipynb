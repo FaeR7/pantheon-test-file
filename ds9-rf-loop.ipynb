{
 "cells": [
  {
   "cell_type": "code",
   "execution_count": 9,
   "id": "ac8249d7",
   "metadata": {},
   "outputs": [],
   "source": [
    "import sys, os, glob\n",
    "import argparse\n",
    "import pandas as pd\n",
    "\n",
    "fits_summary_path = \"./data_files/fits_summary.csv\"\n",
    "brightest_galaxy_path = \"./data_files/brightest_galaxy.csv\"\n",
    "all_ds9_out_path = \"./ds9_cmds_all.csv\"\n",
    "supernova_names = [\"2001ah\"]"
   ]
  },
  {
   "cell_type": "code",
   "execution_count": 2,
   "id": "786451f8",
   "metadata": {},
   "outputs": [
    {
     "name": "stdout",
     "output_type": "stream",
     "text": [
      "       SNID                                           filename  \\\n",
      "0    1997bq  pantheon_data_folder/1997bq/mastDownload/HST/h...   \n",
      "1    1997bq  pantheon_data_folder/1997bq/mastDownload/HST/i...   \n",
      "2    1997bq  pantheon_data_folder/1997bq/mastDownload/HST/i...   \n",
      "3    1997bq  pantheon_data_folder/1997bq/mastDownload/HST/i...   \n",
      "4    1997bq  pantheon_data_folder/1997bq/mastDownload/HST/h...   \n",
      "..      ...                                                ...   \n",
      "813   2002G  pantheon_data_folder/2002G/mastDownload/HST/hs...   \n",
      "814   2002G  pantheon_data_folder/2002G/mastDownload/HST/hs...   \n",
      "815   2002G  pantheon_data_folder/2002G/mastDownload/HST/hs...   \n",
      "816  2003cg  pantheon_data_folder/2003cg/mastDownload/HLA/H...   \n",
      "817  2003cg  pantheon_data_folder/2003cg/mastDownload/HST/n...   \n",
      "\n",
      "                    Date Telescope Instrument     Filter     CD1_1  \\\n",
      "0             2024-11-09       HST       WFC3      F160W -0.000036   \n",
      "1             2025-04-07       HST       WFC3      F160W  0.000031   \n",
      "2             2025-04-11       HST       WFC3      F160W -0.000032   \n",
      "3             2025-03-31       HST       WFC3      F160W  0.000031   \n",
      "4             2024-11-09       HST       WFC3      F160W -0.000036   \n",
      "..                   ...       ...        ...        ...       ...   \n",
      "813           2024-11-08       HST       WFC3      F160W -0.000036   \n",
      "814           2024-11-09       HST       WFC3      F160W -0.000036   \n",
      "815           2024-11-09       HST       WFC3  detection -0.000036   \n",
      "816  2009-11-27T21:54:23       HST     NICMOS      F160W -0.000014   \n",
      "817  2009-06-18T19:12:27       HST     NICMOS      F160W  0.000010   \n",
      "\n",
      "            CD1_2         CD2_1     CD2_2  \n",
      "0   -7.487909e-22 -7.171354e-22  0.000036  \n",
      "1    1.726983e-05  1.726983e-05 -0.000031  \n",
      "2    1.601717e-05  1.601717e-05  0.000032  \n",
      "3    1.726983e-05  1.726983e-05 -0.000031  \n",
      "4   -1.384713e-21 -2.238465e-21  0.000036  \n",
      "..            ...           ...       ...  \n",
      "813 -1.065022e-21 -2.321364e-21  0.000036  \n",
      "814 -3.821798e-22  4.676165e-23  0.000036  \n",
      "815 -3.821798e-22  4.676165e-23  0.000036  \n",
      "816  0.000000e+00  0.000000e+00  0.000014  \n",
      "817 -1.848950e-05 -1.865700e-05 -0.000010  \n",
      "\n",
      "[818 rows x 10 columns]\n"
     ]
    }
   ],
   "source": [
    "fits_summary = pd.read_table(fits_summary_path,sep=',')\n",
    "\n",
    "print(fits_summary)"
   ]
  },
  {
   "cell_type": "code",
   "execution_count": 10,
   "id": "d4f94da2",
   "metadata": {},
   "outputs": [
    {
     "name": "stdout",
     "output_type": "stream",
     "text": [
      "       SNID                               File_key  Galaxy_Key   RA_Galaxy  \\\n",
      "0     2005W  hst_15145_0b_wfc3_ir_f160w_idgg0b_drz           1   27.665079   \n",
      "1     2005W  hst_15145_06_wfc3_ir_f160w_idgg06_drz           2   27.674116   \n",
      "2     2005W  hst_15145_03_wfc3_ir_f160w_idgg03_drz           3   27.674117   \n",
      "3     2005W                          idgg03020_drz           4   27.673721   \n",
      "4     2005W                          idgg01020_drz           5   27.673671   \n",
      "..      ...                                    ...         ...         ...   \n",
      "617   2002G  hst_15145_31_wfc3_ir_f160w_idgg31_drz         618  154.222991   \n",
      "618   2002G  hst_16234_70_wfc3_ir_f160w_ieel70_drz         619  154.203397   \n",
      "619   2002G  hst_15145_35_wfc3_ir_f160w_idgg35_drz         620  154.223017   \n",
      "620  2003cg         HST_7331_98_NIC_NIC2_F160W_drz         621  153.562681   \n",
      "621  2003cg                          n3zd98010_mos         622  153.562535   \n",
      "\n",
      "     Dec_Galaxy  Position_Angle  Major_Axis  Minor_Axis      Mag  Mag_Error  \\\n",
      "0     21.762750          -46.00      81.409      31.479  -8.8374     0.0069   \n",
      "1     21.759959            3.37      70.521      42.052 -13.4106     0.0001   \n",
      "2     21.759973            4.37      70.741      42.607 -13.4051     0.0001   \n",
      "3     21.760011           69.21      56.137      44.750 -13.4464     0.0001   \n",
      "4     21.760130           60.18      72.740      45.621 -13.4669     0.0002   \n",
      "..          ...             ...         ...         ...      ...        ...   \n",
      "617   73.400716           67.11      56.892      46.911 -15.0430     0.0001   \n",
      "618   73.398953           86.86      18.769       5.187  -9.9502     0.0116   \n",
      "619   73.400748           61.54      62.206      47.101 -15.0531     0.0001   \n",
      "620    3.466175          -43.52      56.322      33.575 -13.7144     0.0000   \n",
      "621    3.463739           33.75       0.760       0.661  -2.8478     0.1217   \n",
      "\n",
      "             Flux  Flux_Error  \n",
      "0    3.427351e+03   21.824950  \n",
      "1    2.313384e+05   25.700330  \n",
      "2    2.301605e+05   26.272880  \n",
      "3    2.390878e+05   32.117850  \n",
      "4    2.436506e+05   37.049840  \n",
      "..            ...         ...  \n",
      "617  1.040436e+06   48.242760  \n",
      "618  9.551256e+03  102.249800  \n",
      "619  1.050107e+06   51.356830  \n",
      "620  3.060166e+05    0.000753  \n",
      "621  1.377543e+01    1.544280  \n",
      "\n",
      "[622 rows x 12 columns]\n",
      "./data_files/brightest_galaxy.csv\n"
     ]
    }
   ],
   "source": [
    "brightest_galaxy = pd.read_table(brightest_galaxy_path,sep=',')\n",
    "\n",
    "print(brightest_galaxy)\n",
    "print(f'{brightest_galaxy_path}')"
   ]
  },
  {
   "cell_type": "code",
   "execution_count": 11,
   "id": "98548699",
   "metadata": {},
   "outputs": [
    {
     "name": "stdout",
     "output_type": "stream",
     "text": [
      "   Major_Axis  Minor_Axis\n",
      "0      81.409      31.479\n",
      "1      70.521      42.052\n"
     ]
    }
   ],
   "source": [
    "# example\n",
    "print(brightest_galaxy.loc[[0,1], [\"Major_Axis\", \"Minor_Axis\"]])"
   ]
  },
  {
   "cell_type": "code",
   "execution_count": null,
   "id": "bab834a1",
   "metadata": {},
   "outputs": [
    {
     "name": "stdout",
     "output_type": "stream",
     "text": [
      "SN name:  2001ah\n",
      "185.7209775 15.8045306\n",
      "Image row index: 498\n",
      "Image row: \n",
      " SNID                                                     2001ah\n",
      "filename      pantheon_data_folder/2001ah/mastDownload/HST/h...\n",
      "Date                                                 2024-11-09\n",
      "Telescope                                                   HST\n",
      "Instrument                                                 WFC3\n",
      "Filter                                                    F110W\n",
      "CD1_1                                                 -0.000036\n",
      "CD1_2                                                       0.0\n",
      "CD2_1                                                      -0.0\n",
      "CD2_2                                                  0.000036\n",
      "Name: 498, dtype: object\n"
     ]
    }
   ],
   "source": [
    "for sn_name in supernova_names:\n",
    "    print(\"SN name: \",sn_name)\n",
    "\n",
    "    fits_image_rows = fits_summary[fits_summary[\"SNID\"] == sn_name]\n",
    "\n",
    "    brightest_galaxy_rows = brightest_galaxy[brightest_galaxy[\"SNID\"] == sn_name]\n",
    "    first_row_index = brightest_galaxy_rows.index.values[0]\n",
    "\n",
    "    ra_galaxy = brightest_galaxy_rows.loc[first_row_index, \"RA_Galaxy\"]\n",
    "    dec_galaxy = brightest_galaxy_rows.loc[first_row_index, \"Dec_Galaxy\"]\n",
    "    print(ra_galaxy, dec_galaxy)\n",
    "    \n",
    "    for index in fits_image_rows.index.values:\n",
    "        print(\"Image row index:\", index)\n",
    "        print(\"Image row: \\n\",fits_image_rows.loc[index, :])\n",
    "\n",
    "        # TODO: \n",
    "        # ask bhoomika about the galaxy RA/Dec--should all be the same in brightest_galaxy.csv\n",
    "        # get CXY whatever values for 2001ah from bhoomika; that table also has fits filename but not path\n",
    "        # Sofia: open file header, get CD11 -- no, just get from table?\n",
    "        \n",
    "        # make region file\n",
    "\n",
    "        break"
   ]
  },
  {
   "cell_type": "code",
   "execution_count": null,
   "id": "df457495",
   "metadata": {},
   "outputs": [],
   "source": [
    "print(type(fits_image_rows))"
   ]
  },
  {
   "cell_type": "code",
   "execution_count": 18,
   "id": "f9a34951",
   "metadata": {},
   "outputs": [
    {
     "name": "stdout",
     "output_type": "stream",
     "text": [
      "SN name:  2001ah\n",
      "[382 383 384 385 386 387 388 389 390 391 392 393 394 395 396 397 398 399\n",
      " 400 401 402 403 404 405 406 407 408]\n",
      "       SNID  Galaxy_Key\n",
      "382  2001ah         383\n",
      "383  2001ah         384\n",
      "384  2001ah         385\n",
      "385  2001ah         386\n",
      "386  2001ah         387\n",
      "387  2001ah         388\n",
      "388  2001ah         389\n",
      "389  2001ah         390\n",
      "390  2001ah         391\n",
      "391  2001ah         392\n",
      "392  2001ah         393\n",
      "393  2001ah         394\n",
      "394  2001ah         395\n",
      "395  2001ah         396\n",
      "396  2001ah         397\n",
      "397  2001ah         398\n",
      "398  2001ah         399\n",
      "399  2001ah         400\n",
      "400  2001ah         401\n",
      "401  2001ah         402\n",
      "402  2001ah         403\n",
      "403  2001ah         404\n",
      "404  2001ah         405\n",
      "405  2001ah         406\n",
      "406  2001ah         407\n",
      "407  2001ah         408\n",
      "408  2001ah         409\n",
      "Index(['SNID', 'File_key', 'Galaxy_Key', 'RA_Galaxy', 'Dec_Galaxy',\n",
      "       'Position_Angle', 'Major_Axis', 'Minor_Axis', 'Mag', 'Mag_Error',\n",
      "       'Flux', 'Flux_Error'],\n",
      "      dtype='object')\n"
     ]
    }
   ],
   "source": [
    "for sn_name in supernova_names:\n",
    "    print(\"SN name: \",sn_name)\n",
    "\n",
    "    ixs_im4SN = brightest_galaxy[brightest_galaxy[\"SNID\"] == sn_name].index.values\n",
    "    print(ixs_im4SN)\n",
    "    print(brightest_galaxy.loc[ixs_im4SN,['SNID','Galaxy_Key']])\n",
    "    print(brightest_galaxy.columns)\n",
    "    #for ix in ixs_im4SN:\n",
    "        \n",
    "\n",
    "\n"
   ]
  },
  {
   "cell_type": "code",
   "execution_count": null,
   "id": "9aae806a",
   "metadata": {},
   "outputs": [],
   "source": []
  }
 ],
 "metadata": {
  "kernelspec": {
   "display_name": "Python 3",
   "language": "python",
   "name": "python3"
  },
  "language_info": {
   "codemirror_mode": {
    "name": "ipython",
    "version": 3
   },
   "file_extension": ".py",
   "mimetype": "text/x-python",
   "name": "python",
   "nbconvert_exporter": "python",
   "pygments_lexer": "ipython3",
   "version": "3.11.8"
  }
 },
 "nbformat": 4,
 "nbformat_minor": 5
}
