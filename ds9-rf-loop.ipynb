{
 "cells": [
  {
   "cell_type": "code",
   "execution_count": 20,
   "id": "ac8249d7",
   "metadata": {},
   "outputs": [],
   "source": [
    "import sys, os, glob\n",
    "import argparse\n",
    "import pandas as pd\n",
    "\n",
    "fits_summary_path = \"./data_files/fits_summary.csv\"\n",
    "brightest_galaxy_path = \"./data_files/brightest_galaxy.csv\"\n",
    "all_ds9_out_path = \"./ds9_cmds_all.csv\"\n",
    "supernova_names = [\"2001ah\"]"
   ]
  },
  {
   "cell_type": "code",
   "execution_count": 21,
   "id": "786451f8",
   "metadata": {},
   "outputs": [
    {
     "name": "stdout",
     "output_type": "stream",
     "text": [
      "       SNID                                           filename  \\\n",
      "0    1997bq  pantheon_data_folder/1997bq/mastDownload/HST/h...   \n",
      "1    1997bq  pantheon_data_folder/1997bq/mastDownload/HST/i...   \n",
      "2    1997bq  pantheon_data_folder/1997bq/mastDownload/HST/i...   \n",
      "3    1997bq  pantheon_data_folder/1997bq/mastDownload/HST/i...   \n",
      "4    1997bq  pantheon_data_folder/1997bq/mastDownload/HST/h...   \n",
      "..      ...                                                ...   \n",
      "813   2002G  pantheon_data_folder/2002G/mastDownload/HST/hs...   \n",
      "814   2002G  pantheon_data_folder/2002G/mastDownload/HST/hs...   \n",
      "815   2002G  pantheon_data_folder/2002G/mastDownload/HST/hs...   \n",
      "816  2003cg  pantheon_data_folder/2003cg/mastDownload/HLA/H...   \n",
      "817  2003cg  pantheon_data_folder/2003cg/mastDownload/HST/n...   \n",
      "\n",
      "                    Date Telescope Instrument     Filter     CD1_1  \\\n",
      "0             2024-11-09       HST       WFC3      F160W -0.000036   \n",
      "1             2025-04-07       HST       WFC3      F160W  0.000031   \n",
      "2             2025-04-11       HST       WFC3      F160W -0.000032   \n",
      "3             2025-03-31       HST       WFC3      F160W  0.000031   \n",
      "4             2024-11-09       HST       WFC3      F160W -0.000036   \n",
      "..                   ...       ...        ...        ...       ...   \n",
      "813           2024-11-08       HST       WFC3      F160W -0.000036   \n",
      "814           2024-11-09       HST       WFC3      F160W -0.000036   \n",
      "815           2024-11-09       HST       WFC3  detection -0.000036   \n",
      "816  2009-11-27T21:54:23       HST     NICMOS      F160W -0.000014   \n",
      "817  2009-06-18T19:12:27       HST     NICMOS      F160W  0.000010   \n",
      "\n",
      "            CD1_2         CD2_1     CD2_2  \n",
      "0   -7.487909e-22 -7.171354e-22  0.000036  \n",
      "1    1.726983e-05  1.726983e-05 -0.000031  \n",
      "2    1.601717e-05  1.601717e-05  0.000032  \n",
      "3    1.726983e-05  1.726983e-05 -0.000031  \n",
      "4   -1.384713e-21 -2.238465e-21  0.000036  \n",
      "..            ...           ...       ...  \n",
      "813 -1.065022e-21 -2.321364e-21  0.000036  \n",
      "814 -3.821798e-22  4.676165e-23  0.000036  \n",
      "815 -3.821798e-22  4.676165e-23  0.000036  \n",
      "816  0.000000e+00  0.000000e+00  0.000014  \n",
      "817 -1.848950e-05 -1.865700e-05 -0.000010  \n",
      "\n",
      "[818 rows x 10 columns]\n"
     ]
    }
   ],
   "source": [
    "fits_summary = pd.read_table(fits_summary_path,sep=',')\n",
    "\n",
    "print(fits_summary)"
   ]
  },
  {
   "cell_type": "code",
   "execution_count": 22,
   "id": "d4f94da2",
   "metadata": {},
   "outputs": [
    {
     "name": "stdout",
     "output_type": "stream",
     "text": [
      "       SNID                               File_key  Galaxy_Key   RA_Galaxy  \\\n",
      "0     2005W  hst_15145_0b_wfc3_ir_f160w_idgg0b_drz           1   27.665079   \n",
      "1     2005W  hst_15145_06_wfc3_ir_f160w_idgg06_drz           2   27.674116   \n",
      "2     2005W  hst_15145_03_wfc3_ir_f160w_idgg03_drz           3   27.674117   \n",
      "3     2005W                          idgg03020_drz           4   27.673721   \n",
      "4     2005W                          idgg01020_drz           5   27.673671   \n",
      "..      ...                                    ...         ...         ...   \n",
      "617   2002G  hst_15145_31_wfc3_ir_f160w_idgg31_drz         618  154.222991   \n",
      "618   2002G  hst_16234_70_wfc3_ir_f160w_ieel70_drz         619  154.203397   \n",
      "619   2002G  hst_15145_35_wfc3_ir_f160w_idgg35_drz         620  154.223017   \n",
      "620  2003cg         HST_7331_98_NIC_NIC2_F160W_drz         621  153.562681   \n",
      "621  2003cg                          n3zd98010_mos         622  153.562535   \n",
      "\n",
      "     Dec_Galaxy  Position_Angle  Major_Axis  Minor_Axis      Mag  Mag_Error  \\\n",
      "0     21.762750          -46.00      81.409      31.479  -8.8374     0.0069   \n",
      "1     21.759959            3.37      70.521      42.052 -13.4106     0.0001   \n",
      "2     21.759973            4.37      70.741      42.607 -13.4051     0.0001   \n",
      "3     21.760011           69.21      56.137      44.750 -13.4464     0.0001   \n",
      "4     21.760130           60.18      72.740      45.621 -13.4669     0.0002   \n",
      "..          ...             ...         ...         ...      ...        ...   \n",
      "617   73.400716           67.11      56.892      46.911 -15.0430     0.0001   \n",
      "618   73.398953           86.86      18.769       5.187  -9.9502     0.0116   \n",
      "619   73.400748           61.54      62.206      47.101 -15.0531     0.0001   \n",
      "620    3.466175          -43.52      56.322      33.575 -13.7144     0.0000   \n",
      "621    3.463739           33.75       0.760       0.661  -2.8478     0.1217   \n",
      "\n",
      "             Flux  Flux_Error  \n",
      "0    3.427351e+03   21.824950  \n",
      "1    2.313384e+05   25.700330  \n",
      "2    2.301605e+05   26.272880  \n",
      "3    2.390878e+05   32.117850  \n",
      "4    2.436506e+05   37.049840  \n",
      "..            ...         ...  \n",
      "617  1.040436e+06   48.242760  \n",
      "618  9.551256e+03  102.249800  \n",
      "619  1.050107e+06   51.356830  \n",
      "620  3.060166e+05    0.000753  \n",
      "621  1.377543e+01    1.544280  \n",
      "\n",
      "[622 rows x 12 columns]\n"
     ]
    }
   ],
   "source": [
    "brightest_galaxy = pd.read_table(brightest_galaxy_path,sep=',')\n",
    "\n",
    "print(brightest_galaxy)"
   ]
  },
  {
   "cell_type": "code",
   "execution_count": null,
   "id": "98548699",
   "metadata": {},
   "outputs": [
    {
     "name": "stdout",
     "output_type": "stream",
     "text": [
      "   Major_Axis  Minor_Axis\n",
      "0      81.409      31.479\n",
      "1      70.521      42.052\n"
     ]
    }
   ],
   "source": [
    "# example\n",
    "print(brightest_galaxy.loc[[0,1], [\"Major_Axis\", \"Minor_Axis\"]])"
   ]
  },
  {
   "cell_type": "code",
   "execution_count": null,
   "id": "bab834a1",
   "metadata": {},
   "outputs": [
    {
     "name": "stdout",
     "output_type": "stream",
     "text": [
      "SN name:  2001ah\n",
      "       SNID                                           File_key  Galaxy_Key  \\\n",
      "382  2001ah  hst_skycell-p1636x21y19_wfc3_ir_f110w_coarse-a...         383   \n",
      "383  2001ah  hst_skycell-p1635x04y19_wfc3_ir_f110w_coarse-a...         384   \n",
      "384  2001ah  hst_skycell-p1722x05y02_wfc3_ir_f110w_coarse-a...         385   \n",
      "385  2001ah              hst_16075_01_wfc3_ir_f160w_ie9801_drz         386   \n",
      "386  2001ah              hst_16075_01_wfc3_ir_f110w_ie9801_drz         387   \n",
      "387  2001ah      hst_skycell-p1635x04y19_wfc3_ir_f160w_all_drz         388   \n",
      "388  2001ah              hst_14178_ct_wfc3_ir_f110w_id1kct_drz         389   \n",
      "389  2001ah                                      iejn02010_drz         390   \n",
      "390  2001ah              hst_16500_62_wfc3_ir_f160w_iejn62_drz         391   \n",
      "391  2001ah                                      ie9801020_drz         392   \n",
      "392  2001ah              hst_14178_cu_wfc3_ir_f160w_id1kcu_drz         393   \n",
      "393  2001ah      hst_skycell-p1635x04y19_wfc3_ir_f110w_all_drz         394   \n",
      "394  2001ah              hst_15133_31_wfc3_ir_f160w_idkv31_drz         395   \n",
      "395  2001ah                                      iejn62010_drz         396   \n",
      "396  2001ah      hst_skycell-p1722x05y02_wfc3_ir_f160w_all_drz         397   \n",
      "397  2001ah      hst_skycell-p1636x21y19_wfc3_ir_f110w_all_drz         398   \n",
      "398  2001ah              hst_16500_02_wfc3_ir_f160w_iejn02_drz         399   \n",
      "399  2001ah                                      ie9801010_drz         400   \n",
      "400  2001ah                                      idkv31030_drz         401   \n",
      "401  2001ah              hst_14178_cs_wfc3_ir_f110w_id1kcs_drz         402   \n",
      "402  2001ah              hst_14178_cr_wfc3_ir_f160w_id1kcr_drz         403   \n",
      "403  2001ah              hst_14178_cr_wfc3_ir_f110w_id1kcr_drz         404   \n",
      "404  2001ah  hst_skycell-p1636x21y19_wfc3_ir_f160w_coarse-a...         405   \n",
      "405  2001ah  hst_skycell-p1635x04y19_wfc3_ir_f160w_coarse-a...         406   \n",
      "406  2001ah  hst_skycell-p1722x05y02_wfc3_ir_f160w_coarse-a...         407   \n",
      "407  2001ah      hst_skycell-p1636x21y19_wfc3_ir_f160w_all_drz         408   \n",
      "408  2001ah      hst_skycell-p1722x05y02_wfc3_ir_f110w_all_drz         409   \n",
      "\n",
      "      RA_Galaxy  Dec_Galaxy  Position_Angle  Major_Axis  Minor_Axis      Mag  \\\n",
      "382  185.720978   15.804531            0.00       1.097       0.289  -7.8461   \n",
      "383  185.816020   15.796132          -63.27       0.787       0.780  -2.7456   \n",
      "384  185.728788   15.822292           30.02      48.768      40.356 -15.3815   \n",
      "385  185.728824   15.822346           46.64      47.007      38.361 -14.9540   \n",
      "386  185.728769   15.822338           52.44      47.347      38.992 -15.5041   \n",
      "387  185.814016   15.794255           36.12       0.857       0.813  -0.3173   \n",
      "388  185.813355   15.795111           65.40       1.117       0.854  -1.3752   \n",
      "389  185.753175   15.838469          -89.69      54.638       0.808  -6.1478   \n",
      "390  185.726977   15.823244          -48.66      45.124      12.034 -13.1575   \n",
      "391  185.728700   15.822274           66.17      48.515      38.320 -14.9309   \n",
      "392  185.832741   15.820077           -9.88      45.755      32.548 -11.5152   \n",
      "393  185.814020   15.794259           47.87       0.895       0.676  -0.6736   \n",
      "394  185.728873   15.822283           41.77      46.563      38.548 -14.8435   \n",
      "395  185.728772   15.822281           50.37      49.247      39.020 -14.9051   \n",
      "396  185.721401   15.796971          -58.42      12.790       9.246  -7.2217   \n",
      "397  185.721066   15.804526            1.10       1.566       0.658  -5.9149   \n",
      "398  185.740056   15.808239          -10.23      88.027       4.475  -5.8167   \n",
      "399  185.728761   15.822287           61.51      47.031      41.162 -15.4696   \n",
      "400  185.728885   15.822307           81.07      50.096      35.317 -14.8729   \n",
      "401  185.814084   15.795177          -84.30       0.711       0.655  -1.1001   \n",
      "402  185.832680   15.820047          -12.68      44.227      31.834 -11.4903   \n",
      "403  185.832688   15.820057          -10.96      48.288      33.643 -12.1674   \n",
      "404  185.728800   15.822384           39.21      51.408      39.896 -14.6760   \n",
      "405  185.816020   15.796123           -2.19       0.732       0.682  -1.8806   \n",
      "406  185.720028   15.798223           -0.14       1.000       0.500  -2.3636   \n",
      "407  185.722085   15.804057          -13.59       2.000       0.711  -3.4640   \n",
      "408  185.721065   15.804526          -10.22       1.728       0.678  -6.8077   \n",
      "\n",
      "     Mag_Error          Flux  Flux_Error  \n",
      "382     0.0031  1.375417e+03    3.894352  \n",
      "383     0.1914  1.253815e+01    2.209568  \n",
      "384     0.0001  1.421014e+06  120.991200  \n",
      "385     0.0001  9.585110e+05   98.270160  \n",
      "386     0.0001  1.590907e+06  160.963200  \n",
      "387     0.0697  1.339458e+00    0.086025  \n",
      "388     0.1580  3.548681e+00    0.516366  \n",
      "389     0.0088  2.878075e+02    2.332886  \n",
      "390     0.0003  1.832344e+05   55.400870  \n",
      "391     0.0001  9.383298e+05  108.251600  \n",
      "392     0.0005  4.037261e+04   17.654610  \n",
      "393     0.0726  1.859745e+00    0.124350  \n",
      "394     0.0001  8.657403e+05  101.399300  \n",
      "395     0.0001  9.162928e+05  107.540500  \n",
      "396     0.0025  7.739056e+02    1.760417  \n",
      "397     0.0024  2.322611e+02    0.523414  \n",
      "398     0.0195  2.121699e+02    3.810811  \n",
      "399     0.0001  1.541077e+06  178.691500  \n",
      "400     0.0001  8.895591e+05  111.998000  \n",
      "401     0.2139  2.754414e+00    0.542474  \n",
      "402     0.0006  3.945585e+04   20.740080  \n",
      "403     0.0004  7.361482e+04   27.128220  \n",
      "404     0.0001  7.419608e+05   85.640540  \n",
      "405     0.2615  5.652561e+00    1.361225  \n",
      "406     0.1753  8.819191e+00    1.423352  \n",
      "407     0.0177  2.429863e+01    0.395296  \n",
      "408     0.0018  5.285477e+02    0.865541  \n",
      "[382 383 384 385 386 387 388 389 390 391 392 393 394 395 396 397 398 399\n",
      " 400 401 402 403 404 405 406 407 408]\n",
      "382\n"
     ]
    },
    {
     "ename": "SystemExit",
     "evalue": "",
     "output_type": "error",
     "traceback": [
      "An exception has occurred, use %tb to see the full traceback.\n",
      "\u001b[31mSystemExit\u001b[39m\n"
     ]
    },
    {
     "name": "stderr",
     "output_type": "stream",
     "text": [
      "/Users/faerest/Desktop/STScI_pantheon/.conda/lib/python3.11/site-packages/IPython/core/interactiveshell.py:3678: UserWarning: To exit: use 'exit', 'quit', or Ctrl-D.\n",
      "  warn(\"To exit: use 'exit', 'quit', or Ctrl-D.\", stacklevel=1)\n"
     ]
    }
   ],
   "source": [
    "for sn_name in supernova_names:\n",
    "    print(\"SN name: \",sn_name)\n",
    "\n",
    "    fits_image_rows = fits_summary[fits_summary[\"SNID\"] == sn_name]\n",
    "\n",
    "    brightest_galaxy_rows = brightest_galaxy[brightest_galaxy[\"SNID\"] == sn_name]\n",
    "    first_row_index = brightest_galaxy_rows.index.values[0]\n",
    "\n",
    "    ra_galaxy = brightest_galaxy_rows.loc[first_row_index, \"RA_Galaxy\"]\n",
    "    dec_galaxy = brightest_galaxy_rows.loc[first_row_index, \"Dec_Galaxy\"]\n",
    "    print(ra_galaxy, dec_galaxy)\n",
    "    \n",
    "    for index in fits_image_rows.index.values:\n",
    "        print(\"Image row index:\", index)\n",
    "        print(\"Image row: \\n\",fits_image_rows.loc[index, :])\n",
    "\n",
    "        # TODO: ask bhoomika about the galaxy RA/Dec--should all be the same in brightest_galaxy.csv\n",
    "        \n",
    "        # make region file\n",
    "\n",
    "        break"
   ]
  },
  {
   "cell_type": "code",
   "execution_count": null,
   "id": "df457495",
   "metadata": {},
   "outputs": [
    {
     "name": "stdout",
     "output_type": "stream",
     "text": [
      "<class 'pandas.core.frame.DataFrame'>\n"
     ]
    }
   ],
   "source": [
    "print(type(fits_image_rows))"
   ]
  },
  {
   "cell_type": "code",
   "execution_count": null,
   "id": "f9a34951",
   "metadata": {},
   "outputs": [],
   "source": []
  }
 ],
 "metadata": {
  "kernelspec": {
   "display_name": "Python 3",
   "language": "python",
   "name": "python3"
  },
  "language_info": {
   "codemirror_mode": {
    "name": "ipython",
    "version": 3
   },
   "file_extension": ".py",
   "mimetype": "text/x-python",
   "name": "python",
   "nbconvert_exporter": "python",
   "pygments_lexer": "ipython3",
   "version": "3.11.8"
  }
 },
 "nbformat": 4,
 "nbformat_minor": 5
}
